{
 "cells": [
  {
   "cell_type": "markdown",
   "metadata": {},
   "source": [
    "This notebook has quick-and-dirty Python solutions for each day. \n",
    "\n",
    "The main goal here is to get the answer, by no means it's supposed to be an example of a decent Python code.\n",
    "\n",
    "It's only minimally prettified: garbage cells are removed and data paths modified."
   ]
  },
  {
   "cell_type": "code",
   "execution_count": 2,
   "metadata": {
    "collapsed": false
   },
   "outputs": [],
   "source": [
    "%load_ext Cython"
   ]
  },
  {
   "cell_type": "markdown",
   "metadata": {},
   "source": [
    "## Day 01"
   ]
  },
  {
   "cell_type": "code",
   "execution_count": 2,
   "metadata": {
    "collapsed": false
   },
   "outputs": [
    {
     "name": "stdout",
     "output_type": "stream",
     "text": [
      "Part 1: 1182\n",
      "Part 2: 1152\n",
      "CPU times: user 4 ms, sys: 0 ns, total: 4 ms\n",
      "Wall time: 3.4 ms\n"
     ]
    }
   ],
   "source": [
    "%%time\n",
    "\n",
    "def captcha(digits, next_char_offset=1):\n",
    "    num_digits = len(digits)\n",
    "    res = 0\n",
    "    for i, c in enumerate(digits):\n",
    "        cnext = digits[(i + next_char_offset)%num_digits]\n",
    "        res += (ord(c) - ord('0'))*int(c == cnext)\n",
    "    return res\n",
    "\n",
    "def captcha2(digits):\n",
    "    return captcha(digits, int(len(digits)/2))\n",
    "\n",
    "def solution(input_file):\n",
    "    with open(input_file) as f:\n",
    "        input_data = f.read().strip()\n",
    "\n",
    "    print(\"Part 1: {}\".format(captcha(input_data)))\n",
    "    print(\"Part 2: {}\".format(captcha2(input_data)))\n",
    "    \n",
    "solution('day01-cython/input.txt')"
   ]
  },
  {
   "cell_type": "markdown",
   "metadata": {},
   "source": [
    "## Day02"
   ]
  },
  {
   "cell_type": "code",
   "execution_count": 3,
   "metadata": {
    "collapsed": false
   },
   "outputs": [
    {
     "name": "stdout",
     "output_type": "stream",
     "text": [
      "Part 1: 30994\n",
      "Part 2: 233\n",
      "CPU times: user 0 ns, sys: 0 ns, total: 0 ns\n",
      "Wall time: 735 µs\n"
     ]
    }
   ],
   "source": [
    "%%time\n",
    "\n",
    "def find_evenly_divisible_result(row):\n",
    "    for i, x in enumerate(row):\n",
    "        for y in row[i + 1:]:\n",
    "            if x%y == 0:\n",
    "                return int(x/y)\n",
    "            elif y%x == 0:\n",
    "                return int(y/x)\n",
    "    return 0\n",
    "\n",
    "def solution(input_file):\n",
    "    with open(input_file) as f:\n",
    "        data = [[int(x) for x in s.strip().split('\\t')] \n",
    "                for s in f.readlines()]\n",
    "\n",
    "    res1 = sum(max(row) - min(row) for row in data)    \n",
    "    print(\"Part 1: {}\".format(res1))\n",
    "    \n",
    "    res2 = sum(map(find_evenly_divisible_result, data))\n",
    "    print(\"Part 2: {}\".format(res2))\n",
    "    \n",
    "solution('day02-j/input.txt')"
   ]
  },
  {
   "cell_type": "markdown",
   "metadata": {},
   "source": [
    "## Day 03"
   ]
  },
  {
   "cell_type": "code",
   "execution_count": 4,
   "metadata": {
    "collapsed": false
   },
   "outputs": [
    {
     "name": "stdout",
     "output_type": "stream",
     "text": [
      "Part 1: 430\n",
      "Part 2: 312453\n",
      "CPU times: user 44 ms, sys: 0 ns, total: 44 ms\n",
      "Wall time: 44.2 ms\n"
     ]
    }
   ],
   "source": [
    "%%time\n",
    "\n",
    "from itertools import islice, count\n",
    "\n",
    "OFFS = [(1, 0), (0, -1), (-1, 0), (0, 1)]\n",
    "\n",
    "def spiral():\n",
    "    x, y = (0, 0)\n",
    "    direction = 0\n",
    "    step = 1\n",
    "    phase = 0\n",
    "    while True:\n",
    "        dx, dy = OFFS[direction]\n",
    "        for i in range(step):\n",
    "            yield x, y\n",
    "            x += dx\n",
    "            y += dy\n",
    "            \n",
    "        if phase == 0:\n",
    "            phase = 1\n",
    "        else:\n",
    "            phase = 0\n",
    "            step += 1\n",
    "        direction = (direction + 1)%4\n",
    "\n",
    "def spiraln(n):\n",
    "    return next(islice(spiral(), n - 1, n))\n",
    "        \n",
    "def manhattan(pos):\n",
    "    return abs(pos[0]) + abs(pos[1])\n",
    "\n",
    "def sp2(n):\n",
    "    pos = list(islice(spiral(), n))[1:]\n",
    "    vals = {(0, 0): 1}\n",
    "    def sumvals(x, y):\n",
    "        return vals.get((x + 1, y), 0) + \\\n",
    "            vals.get((x + 1, y - 1), 0) + \\\n",
    "            vals.get((x , y - 1), 0) + \\\n",
    "            vals.get((x - 1, y - 1), 0) + \\\n",
    "            vals.get((x - 1, y), 0) + \\\n",
    "            vals.get((x - 1, y + 1), 0) + \\\n",
    "            vals.get((x, y + 1), 0) + \\\n",
    "            vals.get((x + 1, y + 1), 0)\n",
    "    for p in pos:\n",
    "        if p != (0, 0):\n",
    "            s = sumvals(p[0], p[1])\n",
    "            vals[p] = s\n",
    "    return vals[pos[-1]]\n",
    "\n",
    "def get_spiral_val_larger(x):\n",
    "    i = 2\n",
    "    while True:\n",
    "        if sp2(i) > x:\n",
    "            return sp2(i)\n",
    "        i += 1\n",
    "\n",
    "def solution(seed):\n",
    "    print(\"Part 1: {}\".format(manhattan(spiraln(seed))))\n",
    "    print(\"Part 2: {}\".format(get_spiral_val_larger(seed)))\n",
    "    \n",
    "INPUT = 312051\n",
    "solution(INPUT)"
   ]
  },
  {
   "cell_type": "markdown",
   "metadata": {},
   "source": [
    "## Day 04"
   ]
  },
  {
   "cell_type": "code",
   "execution_count": 5,
   "metadata": {
    "collapsed": false
   },
   "outputs": [
    {
     "name": "stdout",
     "output_type": "stream",
     "text": [
      "Part 1: 325\n",
      "Part 2: 119\n",
      "CPU times: user 4 ms, sys: 0 ns, total: 4 ms\n",
      "Wall time: 4.4 ms\n"
     ]
    }
   ],
   "source": [
    "%%time\n",
    "\n",
    "def is_valid(passphrase, sort=False):\n",
    "    words = passphrase.strip().split(' ')\n",
    "    reg = set()\n",
    "    for w in words:\n",
    "        if sort:\n",
    "            w = ''.join(sorted(w))\n",
    "        if w in reg:\n",
    "            return False\n",
    "        reg.add(w)\n",
    "    return True\n",
    "\n",
    "def solution(input_file):\n",
    "    with open(input_file) as f:\n",
    "        data = f.readlines()\n",
    "        \n",
    "    print(\"Part 1: {}\".format(sum(map(is_valid, data))))\n",
    "    print(\"Part 2: {}\".format(sum(map(lambda x: is_valid(x, True), data))))\n",
    "    \n",
    "solution('day04-perl/input.txt')"
   ]
  },
  {
   "cell_type": "markdown",
   "metadata": {},
   "source": [
    "## Day 05"
   ]
  },
  {
   "cell_type": "code",
   "execution_count": 6,
   "metadata": {
    "collapsed": false
   },
   "outputs": [
    {
     "name": "stdout",
     "output_type": "stream",
     "text": [
      "Part 1: 343467\n",
      "Part 2: 24774780\n",
      "CPU times: user 5.43 s, sys: 0 ns, total: 5.43 s\n",
      "Wall time: 5.44 s\n"
     ]
    }
   ],
   "source": [
    "%%time\n",
    "\n",
    "def count_steps_to_exit(data):\n",
    "    pos = 0\n",
    "    steps = 0\n",
    "\n",
    "    while True:\n",
    "        offs = data[pos]\n",
    "        data[pos] += 1\n",
    "        pos += offs\n",
    "        if pos < 0 or pos >= len(data):\n",
    "            break\n",
    "        steps += 1\n",
    "        \n",
    "    return steps + 1\n",
    "\n",
    "def count_steps_to_exit2(data):\n",
    "    pos = 0\n",
    "    steps = 0\n",
    "\n",
    "    while True:\n",
    "        offs = data[pos]\n",
    "        if offs >= 3:\n",
    "            data[pos] -= 1\n",
    "        else:\n",
    "            data[pos] += 1\n",
    "        pos += offs\n",
    "        if pos < 0 or pos >= len(data):\n",
    "            break\n",
    "        steps += 1\n",
    "\n",
    "    return steps + 1\n",
    "\n",
    "def solution(input_file):\n",
    "    with open(input_file) as f:\n",
    "        data = [int(line.strip()) for line in f.readlines()]\n",
    "        \n",
    "    print('Part 1: {}'.format(count_steps_to_exit(data[:])))\n",
    "    print('Part 2: {}'.format(count_steps_to_exit2(data[:])))\n",
    "    \n",
    "solution('day05-rebol/input.txt')"
   ]
  },
  {
   "cell_type": "markdown",
   "metadata": {
    "collapsed": true
   },
   "source": [
    "## Day 06"
   ]
  },
  {
   "cell_type": "code",
   "execution_count": 7,
   "metadata": {
    "collapsed": false
   },
   "outputs": [
    {
     "name": "stdout",
     "output_type": "stream",
     "text": [
      "Part 1: 12841\n",
      "Part 1: 8038\n",
      "CPU times: user 264 ms, sys: 268 ms, total: 532 ms\n",
      "Wall time: 252 ms\n"
     ]
    }
   ],
   "source": [
    "%%time\n",
    "\n",
    "import numpy as np\n",
    "\n",
    "def step(blocks):\n",
    "    totalb = len(blocks)\n",
    "    pos = np.argmax(blocks)\n",
    "    nb = blocks[pos]\n",
    "    blocks[pos] = 0        \n",
    "    frac = max(1, int(nb/(totalb - 1)))\n",
    "    for r in range(pos + 1, pos + totalb*2):\n",
    "        blocks[r%totalb] += min(frac, nb)\n",
    "        nb -= frac\n",
    "        if nb < 0:\n",
    "            break\n",
    "    return blocks\n",
    "\n",
    "def get_max_wrap_steps(blocks):\n",
    "    blocks_copy = blocks[:]\n",
    "    visited = {}\n",
    "    cb = tuple(blocks_copy)\n",
    "    steps = 0\n",
    "    check = sum(blocks_copy)\n",
    "    while cb not in visited:\n",
    "        visited[cb] = steps\n",
    "        cb = tuple(step(blocks_copy))\n",
    "        steps += 1\n",
    "        assert(check == sum(blocks_copy))\n",
    "    last_step = visited[cb]\n",
    "    return steps, steps - last_step\n",
    "\n",
    "def solution(input_file):\n",
    "    with open(input_file) as f:\n",
    "        data = [int(line.strip()) for line in f.read().split('\\t')]\n",
    "    \n",
    "    steps, dsteps = get_max_wrap_steps(data)\n",
    "    print('Part 1: {}'.format(steps))\n",
    "    print('Part 1: {}'.format(dsteps))\n",
    "\n",
    "solution('day06-racket/input.txt')"
   ]
  },
  {
   "cell_type": "markdown",
   "metadata": {},
   "source": [
    "## Day 07"
   ]
  },
  {
   "cell_type": "code",
   "execution_count": 8,
   "metadata": {
    "collapsed": false
   },
   "outputs": [
    {
     "name": "stdout",
     "output_type": "stream",
     "text": [
      "Part 1: dgoocsw\n",
      "Part 2: 1275\n",
      "CPU times: user 4 ms, sys: 0 ns, total: 4 ms\n",
      "Wall time: 3.81 ms\n"
     ]
    }
   ],
   "source": [
    "%%time\n",
    "\n",
    "def split_arg(s):\n",
    "    parts = [x.strip() for x in s.split('->')]\n",
    "    weight = int(parts[0][1:-1])\n",
    "    children = [] if len(parts) == 1 else [x.strip() for x in parts[1].split(',')]\n",
    "    return weight, children\n",
    "\n",
    "def parse_graph(lines):\n",
    "    data = [line.strip().split(' ', 1) for line in lines]\n",
    "    return dict((d[0], split_arg(d[1])) for d in data)\n",
    "\n",
    "def get_root(graph):\n",
    "    non_root = set()\n",
    "    for node, (_, children) in graph.items():\n",
    "        for child in children:\n",
    "            non_root.add(child)\n",
    "    for node, _ in graph.items():\n",
    "        if node not in non_root:\n",
    "            return node\n",
    "    return None\n",
    "\n",
    "def get_balance_weight(graph):\n",
    "    balance_weight = 0\n",
    "    def get_weight(root):\n",
    "        w, children = graph[root]\n",
    "        ch_weights = [get_weight(ch) for ch in children]\n",
    "        dw = 0\n",
    "        if len(ch_weights) > 0:\n",
    "            maxw = max(ch_weights)\n",
    "            minw = min(ch_weights)\n",
    "            if minw != maxw:\n",
    "                if ch_weights.count(minw) == 1:\n",
    "                    ch = children[ch_weihts.index(minw)]\n",
    "                    dw = maxw - minw\n",
    "                else:\n",
    "                    ch = children[ch_weights.index(maxw)]\n",
    "                    dw = minw - maxw\n",
    "                nonlocal balance_weight\n",
    "                balance_weight = graph[ch][0] + dw\n",
    "        return w + sum(ch_weights) + dw\n",
    "    \n",
    "    get_weight(get_root(graph))\n",
    "    return balance_weight\n",
    "\n",
    "def solution(input_path):\n",
    "    graph = parse_graph(open(input_path).readlines())\n",
    "    \n",
    "    print('Part 1: {}'.format(get_root(graph)))\n",
    "    print('Part 2: {}'.format(get_balance_weight(graph)))\n",
    "    \n",
    "solution('day07-groovy/input.txt')"
   ]
  },
  {
   "cell_type": "markdown",
   "metadata": {},
   "source": [
    "## Day 08"
   ]
  },
  {
   "cell_type": "code",
   "execution_count": 9,
   "metadata": {
    "collapsed": false
   },
   "outputs": [
    {
     "name": "stdout",
     "output_type": "stream",
     "text": [
      "Part 1: 5215\n",
      "Part 2: 6419\n",
      "CPU times: user 0 ns, sys: 0 ns, total: 0 ns\n",
      "Wall time: 3.71 ms\n"
     ]
    }
   ],
   "source": [
    "%%time\n",
    "\n",
    "def parse_instr(line):\n",
    "    parts = line.split(' ')\n",
    "    sgn = 1 if parts[1] == 'inc' else -1\n",
    "    return parts[0], sgn, int(parts[2]), parts[4], parts[5], int(parts[6])\n",
    "\n",
    "def parse_file(path):\n",
    "    data = [line.strip() for line in open(path).readlines()]\n",
    "    return [parse_instr(line) for line in data]\n",
    "\n",
    "def eval_program(instr):\n",
    "    regs = {}\n",
    "    topv = None\n",
    "    for reg, op, amt, ifreg, ifop, ifamt in instr:\n",
    "        ifval = regs.get(ifreg, 0)\n",
    "        if (ifop == '>' and ifval > ifamt) or \\\n",
    "            (ifop == '<' and ifval < ifamt) or \\\n",
    "            (ifop == '>=' and ifval >= ifamt) or \\\n",
    "            (ifop == '<=' and ifval <= ifamt) or \\\n",
    "            (ifop == '==' and ifval == ifamt) or \\\n",
    "            (ifop == '!=' and ifval != ifamt):\n",
    "                \n",
    "            regs[reg] = regs.get(reg, 0) + op*amt\n",
    "            if topv is None:\n",
    "                topv = regs[reg]\n",
    "            else:\n",
    "                topv = max(topv, max(regs.values()))\n",
    "    return max(regs.values()), topv\n",
    "\n",
    "def solution(input_file):\n",
    "    res1, res2 = eval_program(parse_file(input_file))\n",
    "    print(\"Part 1: {}\".format(res1))\n",
    "    print(\"Part 2: {}\".format(res2))\n",
    "    \n",
    "solution('day08-idris/input.txt')"
   ]
  },
  {
   "cell_type": "markdown",
   "metadata": {},
   "source": [
    "## Day 09"
   ]
  },
  {
   "cell_type": "code",
   "execution_count": 10,
   "metadata": {
    "collapsed": false
   },
   "outputs": [
    {
     "name": "stdout",
     "output_type": "stream",
     "text": [
      "Part 1: 11347\n",
      "Part 2: 5404\n",
      "CPU times: user 8 ms, sys: 0 ns, total: 8 ms\n",
      "Wall time: 8.59 ms\n"
     ]
    }
   ],
   "source": [
    "%%time\n",
    "\n",
    "class Parser:\n",
    "    def __init__(self, text):\n",
    "        self.text = text\n",
    "        self.pos = 0\n",
    "        self.score = 0\n",
    "        self.garbage_chars = 0\n",
    "\n",
    "    def next_token(self):\n",
    "        while(self.text[self.pos] == '!'):\n",
    "            self.pos += 2\n",
    "        ch = self.text[self.pos]\n",
    "        self.pos += 1\n",
    "        return ch\n",
    "\n",
    "    def parse_expr(self, level = 1):\n",
    "        while(self.pos < len(self.text)):\n",
    "            t = self.next_token()\n",
    "            if t == '}':\n",
    "                break\n",
    "            elif t == '<':\n",
    "                while self.next_token() != '>':\n",
    "                    self.garbage_chars += 1\n",
    "            elif t == '{':\n",
    "                self.score += level\n",
    "                self.parse_expr(level + 1)\n",
    "        return (self.score, self.garbage_chars)\n",
    "    \n",
    "def solution(input_file):\n",
    "    st = open(input_file).read().strip()\n",
    "    res1, res2 = Parser(st).parse_expr()\n",
    "    \n",
    "    print(\"Part 1: {}\".format(res1))\n",
    "    print(\"Part 2: {}\".format(res2))\n",
    "    \n",
    "solution('day09-erlang/input.txt')"
   ]
  },
  {
   "cell_type": "markdown",
   "metadata": {},
   "source": [
    "## Day 10"
   ]
  },
  {
   "cell_type": "code",
   "execution_count": 33,
   "metadata": {
    "collapsed": false
   },
   "outputs": [
    {
     "name": "stdout",
     "output_type": "stream",
     "text": [
      "Part 1: 37230\n",
      "Part 2: 70b856a24d586194331398c7fcfa0aaf\n",
      "CPU times: user 8 ms, sys: 0 ns, total: 8 ms\n",
      "Wall time: 6.8 ms\n"
     ]
    }
   ],
   "source": [
    "%%time\n",
    "\n",
    "def rev(nums, pos, size):\n",
    "    rem = max(0, pos + size - len(nums))\n",
    "    sub = list(reversed(nums[pos:(pos + size - rem)] + nums[0:rem]))\n",
    "    nums[pos:(pos + size - rem)] = sub[0:size-rem]\n",
    "    \n",
    "    if rem > 0:\n",
    "        nums[0:rem] = sub[-rem:]    \n",
    "        \n",
    "def transform(nums, offsets, times=1):\n",
    "    cur_pos = 0\n",
    "    skip_size = 0\n",
    "    for i in range(times):\n",
    "        for length in offsets:\n",
    "            rev(nums, cur_pos, length)\n",
    "            cur_pos = (cur_pos + length + skip_size)%len(nums)\n",
    "            skip_size += 1\n",
    "    return nums\n",
    "\n",
    "def mogrify(text):\n",
    "    return [ord(c) for c in text] + [17, 31, 73, 47, 23]\n",
    "\n",
    "def densify(nums):\n",
    "    dh = []\n",
    "    for i in range(0, 256, 16):\n",
    "        res = 0\n",
    "        for j in range(i, i + 16):\n",
    "            res ^= nums[j]\n",
    "        dh.append(res)\n",
    "    return dh\n",
    "\n",
    "def stringify(sparse_nums):\n",
    "    return ''.join(\"%0.2x\"%x for x in densify(sparse_nums))\n",
    "\n",
    "def knot_hash(seed):\n",
    "    mseed = mogrify(seed)\n",
    "    sparse_nums = transform(list(range(256)), mseed, 64)\n",
    "    return stringify(sparse_nums)\n",
    "\n",
    "def solution(input_path):\n",
    "    seed = open(input_path).read().strip()\n",
    "    offsets = [int(x) for x in seed.split(',')]\n",
    "    \n",
    "    res = transform(list(range(256)), offsets)\n",
    "    print(\"Part 1: {}\".format(res[0]*res[1]))\n",
    "    print(\"Part 2: {}\".format(knot_hash(seed)))\n",
    "    \n",
    "solution('day10-octave/input.txt')"
   ]
  },
  {
   "cell_type": "markdown",
   "metadata": {},
   "source": [
    "## Day 11"
   ]
  },
  {
   "cell_type": "code",
   "execution_count": 12,
   "metadata": {
    "collapsed": false
   },
   "outputs": [
    {
     "name": "stdout",
     "output_type": "stream",
     "text": [
      "Part 1: 687\n",
      "Part 2: 1483\n",
      "CPU times: user 8 ms, sys: 0 ns, total: 8 ms\n",
      "Wall time: 8.45 ms\n"
     ]
    }
   ],
   "source": [
    "%%time\n",
    "\n",
    "from functools import reduce \n",
    "\n",
    "OFFS = {\n",
    "    'n': (0, -1),\n",
    "    'ne': (1, 0),\n",
    "    'se': (1, 1),\n",
    "    's': (0, 1),\n",
    "    'sw': (-1, 0),\n",
    "    'nw': (-1, -1)\n",
    "}\n",
    "\n",
    "def add(t1, t2):\n",
    "    return (t1[0] + t2[0], t1[1] + t2[1])\n",
    "\n",
    "def dist(pos):\n",
    "    x = pos[0]\n",
    "    y = pos[1]\n",
    "    if x*y <= 0:\n",
    "        return abs(x) + abs(y)\n",
    "    else:\n",
    "        return max(abs(x), abs(y))\n",
    "    \n",
    "def simulate(steps):\n",
    "    pos = (0, 0)\n",
    "    far_dist = 0\n",
    "    for s in steps:\n",
    "        dpos = OFFS[s]\n",
    "        pos = add(pos, dpos)\n",
    "        cur_dist = dist(pos)\n",
    "        if cur_dist > far_dist:\n",
    "            far_dist = cur_dist\n",
    "    return pos, far_dist\n",
    "    \n",
    "def solution(input_file):\n",
    "    steps = open(input_file).read().strip().split(',')\n",
    "    pos, far_dist = simulate(steps)\n",
    "    \n",
    "    print(\"Part 1: {}\".format(dist(pos)))\n",
    "    print(\"Part 2: {}\".format(far_dist))\n",
    "    \n",
    "solution('day11-pascal/input.txt')"
   ]
  },
  {
   "cell_type": "markdown",
   "metadata": {},
   "source": [
    "## Day 12"
   ]
  },
  {
   "cell_type": "code",
   "execution_count": 13,
   "metadata": {
    "collapsed": false
   },
   "outputs": [
    {
     "name": "stdout",
     "output_type": "stream",
     "text": [
      "Part 1: 130\n",
      "Part 2: 189\n",
      "CPU times: user 204 ms, sys: 0 ns, total: 204 ms\n",
      "Wall time: 206 ms\n"
     ]
    }
   ],
   "source": [
    "%%time\n",
    "\n",
    "def parse_step(line):\n",
    "    parts = line.strip().split('<->')\n",
    "    p2 = [int(x) for x in parts[1].split(', ')]\n",
    "    return int(parts[0]), p2\n",
    "\n",
    "def find_index(lst, pred):\n",
    "    for i, el in enumerate(lst):\n",
    "        if pred(el):\n",
    "            return i\n",
    "    return -1\n",
    "\n",
    "def gather_sets(steps):\n",
    "    elems = set()\n",
    "    for f, to in steps.items():\n",
    "        elems.add(f)\n",
    "        for t in to:\n",
    "            elems.add(t)\n",
    "\n",
    "    sets = [{x} for x in elems]\n",
    "    for f, to in steps.items():\n",
    "        for t in to:\n",
    "            sf = find_index(sets, lambda s: f in s)\n",
    "            st = find_index(sets, lambda s: t in s)\n",
    "            if sf != st:\n",
    "                # merge sets\n",
    "                sets[sf] = sets[sf].union(sets[st])\n",
    "                del sets[st]\n",
    "    return sets\n",
    "\n",
    "def solution(input_path):\n",
    "    steps = dict(parse_step(line) for line in open(input_path).readlines())\n",
    "    sets = gather_sets(steps)\n",
    "    \n",
    "    print(\"Part 1: {}\".format(len(next(s for s in sets if 0 in s))))\n",
    "    print(\"Part 2: {}\".format(len(sets)))\n",
    "\n",
    "solution('day12-r/input.txt')"
   ]
  },
  {
   "cell_type": "markdown",
   "metadata": {
    "collapsed": true
   },
   "source": [
    "## Day 13"
   ]
  },
  {
   "cell_type": "code",
   "execution_count": 14,
   "metadata": {
    "collapsed": false,
    "scrolled": true
   },
   "outputs": [
    {
     "name": "stdout",
     "output_type": "stream",
     "text": [
      "Part 1: 1504\n",
      "Part 2: 3823370\n",
      "CPU times: user 10.7 s, sys: 8 ms, total: 10.7 s\n",
      "Wall time: 10.7 s\n"
     ]
    }
   ],
   "source": [
    "%%time\n",
    "%%cython\n",
    "\n",
    "\n",
    "def read_data(fname):\n",
    "    return [(int(parts[0]), int(parts[1])) \n",
    "            for parts in map(lambda x: x.split(\":\"), \n",
    "                             open(fname).readlines())]\n",
    "\n",
    "\n",
    "def simulate(desc, delay=0, compute_severity=True):\n",
    "    severity = 0\n",
    "    n = len(desc)\n",
    "    state = [delay for k in range(n)]\n",
    "    \n",
    "    last_step = -1\n",
    "    caught = False\n",
    "    for i in range(n):\n",
    "        step, rng = desc[i]\n",
    "        delta = step - last_step\n",
    "        for j in range(i, n):\n",
    "            state[j] += delta\n",
    "        if state[i]%(rng*2 - 2) == 1:\n",
    "            caught = True\n",
    "            if not compute_severity:\n",
    "                return True, 0\n",
    "            severity += step*rng\n",
    "\n",
    "        last_step = step\n",
    "        \n",
    "    return caught, severity\n",
    "\n",
    "\n",
    "def find_min_delay(data):\n",
    "    delay = 0\n",
    "    while True:\n",
    "        caught, sev = simulate(data, delay, False)\n",
    "        if not caught:\n",
    "            break\n",
    "        delay += 1\n",
    "    return delay\n",
    "\n",
    "\n",
    "def solution(input_path):\n",
    "    data = read_data(input_path)\n",
    "    \n",
    "    print('Part 1: {}'.format(simulate(data)[1]))\n",
    "    print('Part 2: {}'.format(find_min_delay(data)))\n",
    "\n",
    "solution('day13-fortran/input.txt')"
   ]
  },
  {
   "cell_type": "markdown",
   "metadata": {
    "collapsed": true
   },
   "source": [
    "## Day 14"
   ]
  },
  {
   "cell_type": "code",
   "execution_count": 37,
   "metadata": {
    "collapsed": false
   },
   "outputs": [
    {
     "name": "stdout",
     "output_type": "stream",
     "text": [
      "Part 1: 8222\n",
      "Part 2: 1086\n",
      "CPU times: user 296 ms, sys: 0 ns, total: 296 ms\n",
      "Wall time: 294 ms\n"
     ]
    }
   ],
   "source": [
    "%%time\n",
    "\n",
    "def build_locations(seed):\n",
    "    locs = {}\n",
    "    for i in range(128):\n",
    "        cur_seed = \"{}-{}\".format(seed, i)\n",
    "        h = knot_hash(cur_seed)\n",
    "        for j in range(4):\n",
    "            start = j*8        \n",
    "            hp = h[start:(start + 8)]\n",
    "            k = int(hp, 16)\n",
    "            bk = \"{:032b}\".format(k)            \n",
    "            for x, c in enumerate(bk):\n",
    "                if c == '1':\n",
    "                    locs[(start*4 + x, i)] = 0\n",
    "    return locs\n",
    "\n",
    "\n",
    "def count_regions(locs):\n",
    "    cur_reg = 1\n",
    "    def flood(loc, val):\n",
    "        if loc in locs and locs[loc] == 0:\n",
    "            locs[loc] = val\n",
    "            x, y = loc\n",
    "            flood((x + 1, y), val)\n",
    "            flood((x - 1, y), val)\n",
    "            flood((x, y - 1), val)\n",
    "            flood((x, y + 1), val)\n",
    "\n",
    "    for loc in locs:\n",
    "        if locs[loc] == 0:\n",
    "            flood(loc, cur_reg)\n",
    "            cur_reg += 1\n",
    "    return cur_reg - 1\n",
    "\n",
    "\n",
    "def solution(input_path):\n",
    "    seed = open(input_path).read().strip()\n",
    "    locs = build_locations(seed)\n",
    "    print('Part 1: {}'.format(len(locs)))\n",
    "    print('Part 2: {}'.format(count_regions(locs)))\n",
    "    \n",
    "\n",
    "solution('day14-coffeescript/input.txt')"
   ]
  },
  {
   "cell_type": "markdown",
   "metadata": {},
   "source": [
    "## Day 15"
   ]
  },
  {
   "cell_type": "code",
   "execution_count": 6,
   "metadata": {
    "collapsed": false
   },
   "outputs": [
    {
     "name": "stdout",
     "output_type": "stream",
     "text": [
      "Part 1: 612\n",
      "Part 2: 285\n",
      "CPU times: user 33.8 s, sys: 0 ns, total: 33.8 s\n",
      "Wall time: 33.8 s\n"
     ]
    }
   ],
   "source": [
    "%%time\n",
    "%%cython\n",
    "\n",
    "MUL1 = 16807\n",
    "MUL2 = 48271\n",
    "DIV = 2147483647\n",
    "\n",
    "MASK = 0xFFFF\n",
    "MASK1 = 4 - 1\n",
    "MASK2 = 8 - 1       \n",
    "\n",
    "def step1(pos):\n",
    "    return ((pos[0]*MUL1)%DIV, (pos[1]*MUL2)%DIV)\n",
    "\n",
    "def step2(pos):\n",
    "    x = pos[0]\n",
    "    while True:\n",
    "        x = (x*MUL1)%DIV\n",
    "        if x&MASK1 == 0:\n",
    "            break\n",
    "    y = pos[1]\n",
    "    while True:\n",
    "        y = (y*MUL2)%DIV\n",
    "        if y&MASK2 == 0:\n",
    "            break\n",
    "    return (x, y)\n",
    "\n",
    "def count_ones(start, steps, stepfn):\n",
    "    num_ones = 0\n",
    "    pos = start\n",
    "    for i in range(steps):\n",
    "        pos = stepfn(pos)\n",
    "        num_ones += int(pos[0]&MASK == pos[1]&MASK)\n",
    "    return num_ones\n",
    "    \n",
    "def solution(input_path):\n",
    "    import re\n",
    "    start = tuple(int(x) for x in re.findall(r'starts with (\\d+)', \n",
    "                                             open(input_path).read()))\n",
    "\n",
    "    print('Part 1: {}'.format(count_ones(start, 40000000, step1)))\n",
    "    print('Part 2: {}'.format(count_ones(start, 5000000, step2)))\n",
    "\n",
    "solution('day15-assembly/input.txt')"
   ]
  },
  {
   "cell_type": "markdown",
   "metadata": {},
   "source": [
    "## Day 16"
   ]
  },
  {
   "cell_type": "code",
   "execution_count": 17,
   "metadata": {
    "collapsed": false
   },
   "outputs": [
    {
     "name": "stdout",
     "output_type": "stream",
     "text": [
      "Part 1: ceijbfoamgkdnlph\n",
      "Part 2: pnhajoekigcbflmd\n",
      "CPU times: user 956 ms, sys: 0 ns, total: 956 ms\n",
      "Wall time: 957 ms\n"
     ]
    }
   ],
   "source": [
    "%%time\n",
    "\n",
    "def rotate(arr, n):\n",
    "    return arr[-n:] + arr[:-n]\n",
    "\n",
    "def dance(state, steps):\n",
    "    for s in steps:\n",
    "        if s[0] == 's':\n",
    "            state = rotate(state, int(s[1:]))\n",
    "        elif s[0] == 'x':\n",
    "            ap, bp = [int(x) for x in s[1:].split(\"/\")]\n",
    "            state[bp], state[ap] = state[ap], state[bp]\n",
    "        elif s[0] == 'p':\n",
    "            a, b = [ord(x) - ord('a') for x in s[1:].split(\"/\")]\n",
    "            ap, bp = state.index(a), state.index(b) \n",
    "            state[ap], state[bp] = b, a\n",
    "    return state\n",
    "\n",
    "def render(programs):\n",
    "    return ''.join(chr(ord('a') + x) for x in programs)\n",
    "\n",
    "def find_period(state, steps):\n",
    "    s = state[:]\n",
    "    visited = {}\n",
    "    i = 0\n",
    "    while True:\n",
    "        st = tuple(s)\n",
    "        if st in visited:\n",
    "            return i, i - visited[st]\n",
    "        visited[st] = i\n",
    "        i += 1\n",
    "        s = dance(s, steps)\n",
    "\n",
    "def dance_long(state, steps, n):\n",
    "    s = state[:]\n",
    "    for i in range(n):\n",
    "        s = dance(s, steps)\n",
    "    return s\n",
    "\n",
    "STEPS = 1000000000\n",
    "\n",
    "def solution(input_path):\n",
    "    state = list(range(16))\n",
    "    steps = open(input_path).read().strip().split(',')\n",
    "\n",
    "    print('Part 1: {}'.format(render(dance(state[:], steps))))\n",
    "    \n",
    "    period, period_start = find_period(state, steps)\n",
    "    state1 = dance_long(state, steps, (STEPS - period_start)%period)\n",
    "    print('Part 2: {}'.format(render(state1)))\n",
    "\n",
    "solution('day16-processing/solution/input.txt')"
   ]
  },
  {
   "cell_type": "markdown",
   "metadata": {
    "collapsed": true
   },
   "source": [
    "## Day 17"
   ]
  },
  {
   "cell_type": "code",
   "execution_count": 18,
   "metadata": {
    "collapsed": false
   },
   "outputs": [
    {
     "name": "stdout",
     "output_type": "stream",
     "text": [
      "Part 1: 772\n",
      "Part 2: 42729050\n",
      "CPU times: user 6.04 s, sys: 0 ns, total: 6.04 s\n",
      "Wall time: 6.04 s\n"
     ]
    }
   ],
   "source": [
    "%%time\n",
    "\n",
    "def spin(step, top):\n",
    "    buf = [0]\n",
    "    pos = 0\n",
    "    for i in range(1, top + 1):\n",
    "        pos = (pos + step + 1)%len(buf)\n",
    "        buf.insert(pos + 1, i)\n",
    "    return buf\n",
    "\n",
    "def spin_no_buf(step, top):\n",
    "    res, pos, size = 0, 0, 1\n",
    "    for i in range(1, top + 1):\n",
    "        pos = (pos + step + 1)%size\n",
    "        if pos == 0:\n",
    "            res = i\n",
    "        size += 1\n",
    "    return res\n",
    "    \n",
    "TOP1 = 2017\n",
    "TOP2 = 50000000\n",
    "    \n",
    "def solution(input_path):\n",
    "    step = int(open(input_path).read())\n",
    "    res = spin(step, TOP1)\n",
    "    print(\"Part 1: {}\".format(res[res.index(TOP1) + 1]))\n",
    "    print(\"Part 2: {}\".format(spin_no_buf(step, TOP2)))\n",
    "\n",
    "solution(\"day17-visualbasic/input.txt\")"
   ]
  },
  {
   "cell_type": "markdown",
   "metadata": {
    "collapsed": true
   },
   "source": [
    "\n",
    "## Day 18"
   ]
  },
  {
   "cell_type": "code",
   "execution_count": 19,
   "metadata": {
    "collapsed": false
   },
   "outputs": [
    {
     "name": "stdout",
     "output_type": "stream",
     "text": [
      "Part 1: 4601\n",
      "Part 2: 6858\n",
      "CPU times: user 108 ms, sys: 0 ns, total: 108 ms\n",
      "Wall time: 108 ms\n"
     ]
    }
   ],
   "source": [
    "%%time\n",
    "\n",
    "def run(commands):\n",
    "    freq = None\n",
    "    regs = [0]*(ord('z') - ord('a'))\n",
    "    \n",
    "    def get_reg(r):\n",
    "        return regs[ord(r[0]) - ord('a')]\n",
    "    def set_reg(r, val):\n",
    "        regs[ord(r[0]) - ord('a')] = val\n",
    "        \n",
    "    def val(x):\n",
    "        if isinstance(x, int):\n",
    "            return x\n",
    "        return get_reg(x)\n",
    "    \n",
    "    pos = 0\n",
    "    while True:\n",
    "        cmd = commands[pos]\n",
    "        c = cmd[0]\n",
    "        if c == 'snd':\n",
    "            freq = val(cmd[1])\n",
    "        elif c == 'set':\n",
    "            set_reg(cmd[1], val(cmd[2]))\n",
    "        elif c == 'add':\n",
    "            set_reg(cmd[1], val(cmd[2]) + val(cmd[1]))\n",
    "        elif c == 'mul':\n",
    "            set_reg(cmd[1], val(cmd[2])*val(cmd[1]))            \n",
    "        elif c == 'mod':\n",
    "            set_reg(cmd[1], val(cmd[1])%val(cmd[2]))            \n",
    "        elif c == 'rcv':\n",
    "            f = val(cmd[1])\n",
    "            if f != 0:\n",
    "                return freq\n",
    "        elif c == 'jgz':\n",
    "            x = val(cmd[1])\n",
    "            if x > 0:\n",
    "                pos += val(cmd[2]) - 1\n",
    "        pos += 1\n",
    "        \n",
    "        \n",
    "def run_parralel(commands, pid, mailbox, snd_cnt):\n",
    "    freq = None\n",
    "    regs = [0]*(ord('z') - ord('a'))    \n",
    "    \n",
    "    def get_reg(r):\n",
    "        return regs[ord(r[0]) - ord('a')]\n",
    "    def set_reg(r, val):\n",
    "        regs[ord(r[0]) - ord('a')] = val\n",
    "     \n",
    "    def val(x):\n",
    "        if isinstance(x, int):\n",
    "            return x\n",
    "        return get_reg(x)\n",
    "    \n",
    "    def get_mailbox(r):\n",
    "        if len(mailbox[1 - pid]) > 0:\n",
    "            set_reg(r, mailbox[1 - pid][0])\n",
    "            del mailbox[1 - pid][0]\n",
    "            return True\n",
    "        else:\n",
    "            return False\n",
    " \n",
    "    set_reg('p', pid)\n",
    "\n",
    "    pos = 0\n",
    "    while True:\n",
    "        cmd = commands[pos]\n",
    "        c = cmd[0]\n",
    "        if c == 'snd':\n",
    "            mailbox[pid].append(val(cmd[1]))\n",
    "            snd_cnt[pid] += 1\n",
    "        elif c == 'set':\n",
    "            set_reg(cmd[1], val(cmd[2]))\n",
    "        elif c == 'add':\n",
    "            set_reg(cmd[1], val(cmd[2]) + val(cmd[1]))\n",
    "        elif c == 'mul':\n",
    "            set_reg(cmd[1], val(cmd[2])*val(cmd[1]))            \n",
    "        elif c == 'mod':\n",
    "            set_reg(cmd[1], val(cmd[1])%val(cmd[2]))            \n",
    "        elif c == 'rcv':\n",
    "            if not get_mailbox(cmd[1]):\n",
    "                yield\n",
    "                if not get_mailbox(cmd[1]):\n",
    "                    # deadlock\n",
    "                    return\n",
    "        elif c == 'jgz':\n",
    "            x = val(cmd[1])\n",
    "            if x > 0:\n",
    "                pos += val(cmd[2]) - 1\n",
    "        pos += 1\n",
    "        \n",
    "        \n",
    "def part2(commands):\n",
    "    mailbox = [[], []]\n",
    "    snd_cnt = [0, 0]\n",
    "\n",
    "    p1 = run_parralel(commands, 0, mailbox, snd_cnt)\n",
    "    p2 = run_parralel(commands, 1, mailbox, snd_cnt)\n",
    "\n",
    "    while True:\n",
    "        try:\n",
    "            next(p1)\n",
    "            next(p2)\n",
    "        except StopIteration:\n",
    "            break  \n",
    "    return snd_cnt[1]\n",
    "                \n",
    "    \n",
    "def to_int(cmd):\n",
    "    for i, c in enumerate(cmd):\n",
    "        try:\n",
    "            cmd[i] = int(c)\n",
    "        except:\n",
    "            pass\n",
    "    return cmd\n",
    "\n",
    "\n",
    "def solution(input_path):\n",
    "    commands = [to_int(x.strip().split(' ')) for x in open(input_path)]\n",
    "    print('Part 1: {}'.format(run(commands)))    \n",
    "    print('Part 2: {}'.format(part2(commands)))    \n",
    "\n",
    "solution('day18-pony/input.txt')"
   ]
  },
  {
   "cell_type": "markdown",
   "metadata": {},
   "source": [
    "## Day 19"
   ]
  },
  {
   "cell_type": "code",
   "execution_count": 20,
   "metadata": {
    "collapsed": false
   },
   "outputs": [
    {
     "name": "stdout",
     "output_type": "stream",
     "text": [
      "Part 1: DWNBGECOMY\n",
      "Part 2: 17228\n",
      "CPU times: user 4 ms, sys: 0 ns, total: 4 ms\n",
      "Wall time: 4.61 ms\n"
     ]
    }
   ],
   "source": [
    "%%time\n",
    "\n",
    "OFFS = [(-1, 0), (0, -1), (1, 0), (0, 1)]\n",
    "\n",
    "def traverse(maze, start):\n",
    "    pos = start\n",
    "    res = ''\n",
    "    dx, dy = 0, 1\n",
    "    steps = 1\n",
    "    while True:\n",
    "        x0, y0 = pos\n",
    "        x, y = x0 + dx, y0 + dy\n",
    "        steps += 1\n",
    "\n",
    "        c = maze[y][x]\n",
    "        found = True\n",
    "        if c not in '-|':\n",
    "            found = False\n",
    "            for ox, oy in OFFS:\n",
    "                x1, y1 = x + ox, y + oy\n",
    "                if maze[y1][x1] != ' ' and (x1, y1) != pos:\n",
    "                    dx, dy = ox, oy\n",
    "                    found = True\n",
    "                    break\n",
    "        if c not in '+-|':\n",
    "            res += c\n",
    "        if not found:\n",
    "            return (res, steps)\n",
    "        pos = (x, y)\n",
    "\n",
    "\n",
    "def solution(input_path):\n",
    "    maze = open(input_path).readlines()\n",
    "    start = (maze[0].index('|'), 0)\n",
    "    hops, steps = traverse(maze, start)\n",
    "    print('Part 1: {}'.format(hops))\n",
    "    print('Part 2: {}'.format(steps))\n",
    "    \n",
    "solution('day19-forth/input.txt')"
   ]
  },
  {
   "cell_type": "markdown",
   "metadata": {},
   "source": [
    "## Day 20"
   ]
  },
  {
   "cell_type": "code",
   "execution_count": 21,
   "metadata": {
    "collapsed": false
   },
   "outputs": [
    {
     "name": "stdout",
     "output_type": "stream",
     "text": [
      "Part 1: 364\n",
      "Part 2: 420\n",
      "CPU times: user 3.97 s, sys: 12 ms, total: 3.98 s\n",
      "Wall time: 5.12 s\n"
     ]
    }
   ],
   "source": [
    "%%time\n",
    "%%cython\n",
    "\n",
    "import numpy as np\n",
    "import re\n",
    "from collections import namedtuple\n",
    "\n",
    "Particle = namedtuple('Particle', 'p v a')\n",
    "\n",
    "\n",
    "def parse_line(line):\n",
    "    def get_vec(v):\n",
    "        return tuple(map(int, v.split(',')))\n",
    "    parts = dict(re.findall('(.)=<([^>]+)>', line))\n",
    "    return Particle(p=get_vec(parts['p']),\n",
    "                    v=get_vec(parts['v']),\n",
    "                    a=get_vec(parts['a']))\n",
    "\n",
    "\n",
    "def add(p1, p2):\n",
    "    return (p1[0] + p2[0], p1[1] + p2[1], p1[2] + p2[2])\n",
    "\n",
    "\n",
    "def magnitude(p):\n",
    "    return abs(p[0]) + abs(p[1]) + abs(p[2])\n",
    "\n",
    "\n",
    "def step(particles, active):\n",
    "    for i, particle in enumerate(particles):\n",
    "        if active[i]:\n",
    "            v = add(particle.v, particle.a)\n",
    "            p = add(particle.p, v)\n",
    "            particles[i] = Particle(p=p, v=v, a=particle.a)\n",
    "            \n",
    "        \n",
    "def collide(particles, active):\n",
    "    pmap = {}\n",
    "    for i, particle in enumerate(particles):\n",
    "        if active[i]:\n",
    "            if particle.p in pmap:\n",
    "                active[i] = False\n",
    "                active[pmap[particle.p]] = False\n",
    "            else:\n",
    "                pmap[particle.p] = i\n",
    "\n",
    "                \n",
    "def find_closest(particles):                \n",
    "    return np.argmin([magnitude(p.p)for p in particles])\n",
    "\n",
    "\n",
    "MAX_ITER = 1000000\n",
    "PLATEAU_SIZE = 1000\n",
    "\n",
    "def converge(particles, do_collision=False):\n",
    "    active = [True]*len(particles)\n",
    "    last_nactive, last_closest = -1, -1\n",
    "    for i in range(MAX_ITER):\n",
    "        step(particles, active)\n",
    "        nactive, closest = -1, -1\n",
    "        if do_collision:\n",
    "            collide(particles, active)\n",
    "            nactive = sum(active)\n",
    "        else:\n",
    "            closest = find_closest(particles)\n",
    "            \n",
    "        if (i + 1)%PLATEAU_SIZE == 0:\n",
    "            if last_nactive == nactive and last_closest == closest:\n",
    "                return closest, nactive\n",
    "            last_nactive = nactive\n",
    "            last_closest = closest\n",
    "        \n",
    "        \n",
    "def solution(input_path):    \n",
    "    particles = [parse_line(line) for line in open(input_path).readlines()]\n",
    "    print('Part 1: {}'.format(converge(particles[:], False)[0]))\n",
    "    print('Part 2: {}'.format(converge(particles[:], True)[1]))\n",
    "    \n",
    "    \n",
    "solution('day20-ocaml/input.txt')"
   ]
  },
  {
   "cell_type": "markdown",
   "metadata": {
    "collapsed": true
   },
   "source": [
    "## Day 21"
   ]
  },
  {
   "cell_type": "code",
   "execution_count": 22,
   "metadata": {
    "collapsed": false
   },
   "outputs": [
    {
     "name": "stdout",
     "output_type": "stream",
     "text": [
      "Part 1: 162\n",
      "Part 2: 2264586\n",
      "CPU times: user 6.56 s, sys: 12 ms, total: 6.58 s\n",
      "Wall time: 6.58 s\n"
     ]
    }
   ],
   "source": [
    "%%time\n",
    "\n",
    "import math\n",
    "\n",
    "def get_side(s):\n",
    "    return int(round(math.sqrt(len(s))))\n",
    "\n",
    "\n",
    "def idx(x, y, side):\n",
    "    return x + y*side\n",
    "\n",
    "\n",
    "def flip(s, side):\n",
    "    res = [' ']*len(s)\n",
    "    for x in range(side):\n",
    "        for y in range(side):\n",
    "            res[idx(side - x - 1, y, side)] = s[idx(x, y, side)]\n",
    "    return ''.join(res)\n",
    "\n",
    "\n",
    "def rot(s, side):\n",
    "    res = [' ']*len(s)\n",
    "    for x in range(side):\n",
    "        for y in range(side):\n",
    "            res[idx(side - y - 1, x, side)] = s[idx(x, y, side)]\n",
    "    return ''.join(res)\n",
    "\n",
    "\n",
    "def expand_rule(rule):\n",
    "    side = get_side(rule)\n",
    "    \n",
    "    rot1 = rot(rule, side)\n",
    "    rot2 = rot(rot1, side)\n",
    "    rot3 = rot(rot2, side)\n",
    "    \n",
    "    return [rule, rot1, rot2, rot3, \n",
    "            flip(rule, side), flip(rot1, side), \n",
    "            flip(rot2, side), flip(rot3, side)]\n",
    "\n",
    "\n",
    "def parse_rules(path):\n",
    "    for line in open(path).readlines():\n",
    "        parts = [p.strip().replace('/', '') \n",
    "                 for p in line.strip().split('=>')]\n",
    "        for r in expand_rule(parts[0]):\n",
    "            yield r, parts[1]\n",
    "            \n",
    "    \n",
    "def blit(square_side, \n",
    "         src, x_src, y_src, side_src, \n",
    "         dst, x_dst, y_dst, side_dst):\n",
    "    for i in range(square_side):\n",
    "        for j in range(square_side):\n",
    "            dst[idx(x_dst + i, y_dst + j, side_dst)] = \\\n",
    "                src[idx(x_src + i, y_src + j, side_src)]\n",
    "\n",
    "            \n",
    "def rewrite(rules, state, s0, s1):\n",
    "    side0 = get_side(state)\n",
    "    num_sq = side0//s0\n",
    "    side1 = num_sq*s1\n",
    "    \n",
    "    res = [' ']*side1*side1\n",
    "    buf = [' ']*s0*s0\n",
    "    \n",
    "    for x in range(0, num_sq):\n",
    "        for y in range(0, num_sq):\n",
    "            blit(s0,\n",
    "                 state, x*s0, y*s0, side0, \n",
    "                 buf, 0, 0, s0)            \n",
    "            \n",
    "            target = rules[''.join(buf)]\n",
    "            assert(len(target) == s1*s1)\n",
    "            \n",
    "            blit(s1,\n",
    "                 target, 0, 0, s1, \n",
    "                 res, x*s1, y*s1, side1) \n",
    "    return ''.join(res)\n",
    "\n",
    "\n",
    "def step(rules, state):\n",
    "    side = get_side(state)\n",
    "    res = []\n",
    "    if side%2 == 0:\n",
    "        return rewrite(rules, state, 2, 3)\n",
    "    elif side%3 == 0:\n",
    "        return rewrite(rules, state, 3, 4)\n",
    "    else:\n",
    "        assert(False)\n",
    "    \n",
    "    \n",
    "def iter_state(rules, state, steps):\n",
    "    for i in range(steps):\n",
    "        state = step(rules, state)\n",
    "    return state\n",
    "\n",
    "\n",
    "def count_on(state):\n",
    "    return state.count('#')\n",
    "\n",
    "\n",
    "START = '.#.'\\\n",
    "        '..#'\\\n",
    "        '###'\n",
    "\n",
    "def solution(input_path):\n",
    "    rules = dict(parse_rules(input_path))\n",
    "    \n",
    "    print('Part 1: {}'.format(count_on(iter_state(rules, START, 5))))\n",
    "    print('Part 2: {}'.format(count_on(iter_state(rules, START, 18))))\n",
    "\n",
    "    \n",
    "solution('day21-eiffel/input.txt')"
   ]
  },
  {
   "cell_type": "markdown",
   "metadata": {
    "collapsed": true
   },
   "source": [
    "## Day 22"
   ]
  },
  {
   "cell_type": "code",
   "execution_count": 23,
   "metadata": {
    "collapsed": false
   },
   "outputs": [
    {
     "name": "stdout",
     "output_type": "stream",
     "text": [
      "Part 1: 5352\n",
      "Part 2: 2511475\n",
      "CPU times: user 9.92 s, sys: 8 ms, total: 9.93 s\n",
      "Wall time: 9.94 s\n"
     ]
    }
   ],
   "source": [
    "%%time\n",
    "\n",
    "DIRS = [(0, -1), (1, 0), (0, 1), (-1, 0)]\n",
    "\n",
    "\n",
    "def turn_back(d):\n",
    "    return (d + 2)%4\n",
    "\n",
    "\n",
    "def turn_right(d):\n",
    "    return (d + 1)%4\n",
    "\n",
    "\n",
    "def turn_left(d):\n",
    "    return (d - 1)%4\n",
    "\n",
    "\n",
    "def add(p1, p2):\n",
    "    return (p1[0] + p2[0], p1[1] + p2[1])\n",
    "\n",
    "\n",
    "def step(pos, cur_dir, state):\n",
    "    infected = False\n",
    "    if pos in state:\n",
    "        del state[pos]\n",
    "        cur_dir = turn_right(cur_dir)\n",
    "    else:\n",
    "        state[pos] = '#'\n",
    "        cur_dir = turn_left(cur_dir)\n",
    "        infected = True\n",
    "    pos = add(pos, DIRS[cur_dir])\n",
    "    return pos, cur_dir, infected\n",
    "\n",
    "\n",
    "def step2(pos, cur_dir, state):\n",
    "    infected = False\n",
    "    if pos not in state:\n",
    "        state[pos] = 'W'\n",
    "        cur_dir = turn_left(cur_dir)\n",
    "    elif state[pos] == 'W':\n",
    "        state[pos] = '#'\n",
    "        infected = True\n",
    "    elif state[pos] == '#':\n",
    "        state[pos] = 'F'\n",
    "        cur_dir = turn_right(cur_dir)\n",
    "    elif state[pos] == 'F':\n",
    "        del state[pos]\n",
    "        cur_dir = turn_back(cur_dir)\n",
    "    pos = add(pos, DIRS[cur_dir])\n",
    "    return pos, cur_dir, infected\n",
    "\n",
    "\n",
    "def step_many(state, steps, update_fn=step, \n",
    "              start_pos=(0, 0), start_dir=0):\n",
    "    cpos, cdir = start_pos, start_dir\n",
    "    total_infected = 0\n",
    "    for i in range(steps):\n",
    "        cpos, cdir, infected = update_fn(cpos, cdir, state)\n",
    "        total_infected += int(infected)\n",
    "    return total_infected\n",
    "\n",
    "\n",
    "def init_state(layout):\n",
    "    assert(len(layout) == len(layout[0]))\n",
    "    coffs = len(layout[0])//2\n",
    "    state = {}\n",
    "    for y, line in enumerate(layout):\n",
    "        for x, c in enumerate(line):\n",
    "            if c == '#':\n",
    "                state[(x - coffs, y - coffs)] = '#'\n",
    "    return state\n",
    "\n",
    "\n",
    "def solution(input_path):\n",
    "    layout = [line.strip() for line in open(input_path).readlines()]\n",
    "    \n",
    "    res1 = step_many(init_state(layout), 10000)\n",
    "    print('Part 1: {}'.format(res1))\n",
    "    \n",
    "    res2 = step_many(init_state(layout), 10000000, step2)\n",
    "    print('Part 2: {}'.format(res2))\n",
    "\n",
    "    \n",
    "solution('day22-tcl/input.txt')"
   ]
  },
  {
   "cell_type": "markdown",
   "metadata": {
    "collapsed": true
   },
   "source": [
    "## Day 23"
   ]
  },
  {
   "cell_type": "code",
   "execution_count": 1,
   "metadata": {
    "collapsed": false
   },
   "outputs": [
    {
     "name": "stdout",
     "output_type": "stream",
     "text": [
      "Part 1: 3025\n",
      "Part 2: 915\n",
      "CPU times: user 28 ms, sys: 0 ns, total: 28 ms\n",
      "Wall time: 29.6 ms\n"
     ]
    }
   ],
   "source": [
    "%%time\n",
    "\n",
    "from collections import defaultdict\n",
    "\n",
    "def to_int(cmd):\n",
    "    for i, c in enumerate(cmd):\n",
    "        try:\n",
    "            cmd[i] = int(c)\n",
    "        except:\n",
    "            pass\n",
    "    return cmd\n",
    "\n",
    "\n",
    "def parse_commands(input_path):\n",
    "    return [to_int(x.strip().split(' ')) for x in open(input_path)]\n",
    "\n",
    "\n",
    "LAST_REG = 'h'\n",
    "def run(commands, init_regs=None, count_calls=False, max_instr=-1):\n",
    "    call_count = defaultdict(int)\n",
    "    \n",
    "    regs = [0]*(ord(LAST_REG) - ord('a') + 1)\n",
    "    \n",
    "    def get_reg(r):\n",
    "        return regs[ord(r[0]) - ord('a')]\n",
    "    def set_reg(r, val):\n",
    "        regs[ord(r[0]) - ord('a')] = val\n",
    "\n",
    "    if init_regs is not None:\n",
    "        for r, val in init_regs.items():\n",
    "            set_reg(r, val)\n",
    "\n",
    "    def val(x):\n",
    "        if isinstance(x, int):\n",
    "            return x\n",
    "        return get_reg(x)\n",
    "    \n",
    "    pos = 0\n",
    "    i = 0\n",
    "    while pos >= 0 and pos < len(commands):\n",
    "        if max_instr >= 0 and i == max_instr:\n",
    "            break\n",
    "\n",
    "        cmd = commands[pos]\n",
    "        c = cmd[0]\n",
    "        \n",
    "        if c == 'set':\n",
    "            set_reg(cmd[1], val(cmd[2]))\n",
    "        elif c == 'sub':\n",
    "            set_reg(cmd[1], val(cmd[1]) - val(cmd[2]))\n",
    "        elif c == 'mul':\n",
    "            set_reg(cmd[1], val(cmd[2])*val(cmd[1]))    \n",
    "        elif c == 'jnz':\n",
    "            x = val(cmd[1])\n",
    "            if x != 0:\n",
    "                pos += val(cmd[2]) - 1\n",
    "        \n",
    "        call_count[c] += 1        \n",
    "        pos += 1\n",
    "        i += 1\n",
    "        \n",
    "    regs_res = {}\n",
    "    for i, val in enumerate(regs):\n",
    "        regs_res[chr(i + ord('a'))] = val\n",
    "    return regs_res, call_count\n",
    "\n",
    "\n",
    "def is_prime(n):\n",
    "    k = 2\n",
    "    while k*k <= n:\n",
    "        if n%k == 0:\n",
    "            return False\n",
    "        k += 1\n",
    "    return True\n",
    "\n",
    "\n",
    "def manually_optimized_proc(b, c, step):\n",
    "    \"\"\"We somehow manually inferred form the input program that it \n",
    "    always counts the number of non-primes in form\n",
    "    x = b + kP, x <= c, k = 0,1,2,3...\n",
    "    and expect the input program to only differ in terms of (b, c, P)\n",
    "    \"\"\"\n",
    "    r = range(b, c + 1, step)\n",
    "    return len(r) - len(list(filter(is_prime, r)))\n",
    "\n",
    "\n",
    "def run_part2(commands):\n",
    "    regs, _ = run(commands, {'a': 1}, max_instr=100)\n",
    "    b = regs['b']\n",
    "    c = regs['c']\n",
    "    inc_b = [cmd[2] for i, cmd in enumerate(commands) \n",
    "             if cmd[0] == 'sub' and cmd[1] == 'b']\n",
    "    if len(inc_b) == 0:\n",
    "        raise ValueError('Input program must have a sub'\\\n",
    "                         ' instruction for register b')\n",
    "    step = -inc_b[-1]\n",
    "    return manually_optimized_proc(b, c, step)\n",
    "\n",
    "\n",
    "def solution(input_path):\n",
    "    commands = parse_commands(input_path)\n",
    "    regs, counts = run(commands, count_calls=True)\n",
    "    print('Part 1: {}'.format(counts['mul']))\n",
    "    \n",
    "    res = run_part2(commands)\n",
    "    print('Part 2: {}'.format(res))\n",
    "\n",
    "    \n",
    "solution('day23-haxe/input.txt')"
   ]
  },
  {
   "cell_type": "markdown",
   "metadata": {
    "collapsed": true
   },
   "source": [
    "## Day 24"
   ]
  },
  {
   "cell_type": "code",
   "execution_count": 25,
   "metadata": {
    "collapsed": false
   },
   "outputs": [
    {
     "name": "stdout",
     "output_type": "stream",
     "text": [
      "Part 1: 1695\n",
      "Part 2: 1673\n",
      "CPU times: user 4.75 s, sys: 0 ns, total: 4.75 s\n",
      "Wall time: 4.75 s\n"
     ]
    }
   ],
   "source": [
    "%%time\n",
    "from collections import defaultdict\n",
    "\n",
    "\n",
    "def find_best(ports, by_strength=False):\n",
    "    port_reg = defaultdict(list)\n",
    "    for i, (a, b) in enumerate(ports):\n",
    "        port_reg[a].append(i)\n",
    "        port_reg[b].append(i)\n",
    "\n",
    "    used = [False]*len(ports)\n",
    "    \n",
    "    def best_subchain(pin):\n",
    "        max_strength = 0\n",
    "        max_chain = []\n",
    "        \n",
    "        def is_better(strength, chain_len):\n",
    "            if by_strength:\n",
    "                return strength > max_strength\n",
    "            else:\n",
    "                return chain_len > len(max_chain) or \\\n",
    "                    (chain_len == len(max_chain) and \\\n",
    "                     strength > max_strength)\n",
    "        \n",
    "        free_ports = (k for k in port_reg[pin] if not used[k])\n",
    "        for pidx in free_ports:\n",
    "            used[pidx] = True\n",
    "            a, b = ports[pidx]\n",
    "            free_pin = a if b == pin else b\n",
    "            strength, chain = best_subchain(free_pin)\n",
    "            strength += a + b\n",
    "            if is_better(strength, len(chain) + 1):\n",
    "                max_strength = strength\n",
    "                max_chain = [(a, b)] + chain                    \n",
    "            used[pidx] = False\n",
    "        return max_strength, max_chain\n",
    "    \n",
    "    strength, chain = best_subchain(0)\n",
    "    return strength\n",
    "\n",
    "\n",
    "def solution(input_path):\n",
    "    ports = [tuple(map(int, line.strip().split('/'))) \n",
    "             for line in open(input_path).readlines()]\n",
    "    \n",
    "    print('Part 1: {}'.format(find_best(ports, True)))\n",
    "    print('Part 2: {}'.format(find_best(ports, False)))\n",
    "\n",
    "solution('day24-pharo/input.txt')"
   ]
  },
  {
   "cell_type": "markdown",
   "metadata": {
    "collapsed": true
   },
   "source": [
    "## Day 25"
   ]
  },
  {
   "cell_type": "code",
   "execution_count": 26,
   "metadata": {
    "collapsed": false
   },
   "outputs": [
    {
     "name": "stdout",
     "output_type": "stream",
     "text": [
      "Part 1: 4385\n",
      "Part 2: -\n",
      "CPU times: user 4.36 s, sys: 0 ns, total: 4.36 s\n",
      "Wall time: 4.37 s\n"
     ]
    }
   ],
   "source": [
    "%%time\n",
    "\n",
    "import re\n",
    "from collections import namedtuple, defaultdict\n",
    "\n",
    "StateBlock = namedtuple('StateBlock', 'state if0 if1')\n",
    "IfBlock = namedtuple('IfBlock', 'write move target_state')\n",
    "\n",
    "\n",
    "def parse_if_block(ifc):\n",
    "    write = int(re.findall(r'Write the value (.)\\.', ifc)[0])\n",
    "    move = re.findall(r'slot to the (.+)\\.', ifc)[0]\n",
    "    move_dir = 1 if move == 'right' else -1\n",
    "    state = re.findall(r'Continue with state (.)\\.', ifc)[0]\n",
    "    return IfBlock(write, move_dir, state)\n",
    "\n",
    "\n",
    "def parse_state_block(block):\n",
    "    ifs = block.split('If the current value is ')\n",
    "    state = re.findall(r'(.):', ifs[0])[0]\n",
    "    \n",
    "    return StateBlock(state, \n",
    "                      parse_if_block(ifs[1]), \n",
    "                      parse_if_block(ifs[2]))\n",
    "\n",
    "\n",
    "def checksum(tape):\n",
    "    return sum(k for k in tape.values() if k == 1)\n",
    "\n",
    "\n",
    "def eval_program(program, start_state, steps):\n",
    "    state = start_state\n",
    "    pos = 0\n",
    "    tape = defaultdict(int)\n",
    "    for i in range(steps):\n",
    "        val = tape[pos]\n",
    "        block = program[state]\n",
    "        ifb = block.if0 if val == 0 else block.if1\n",
    "        tape[pos] = ifb.write\n",
    "        pos += ifb.move\n",
    "        state = ifb.target_state\n",
    "    return checksum(tape)\n",
    "\n",
    "\n",
    "def solution(input_path):\n",
    "    text = open(input_path).read()\n",
    "\n",
    "    start_state = re.findall(r'Begin in state (.)', text)[0]\n",
    "    steps = int(re.findall(r'checksum after (.+) steps', text)[0])\n",
    "    state_blocks = [parse_state_block(block) \n",
    "                    for block in text.split('In state ')[1:]]\n",
    "    program = {b.state: b for b in state_blocks}\n",
    "    \n",
    "    res = eval_program(program, start_state, steps)\n",
    "    \n",
    "    print('Part 1: {}'.format(res))\n",
    "    print('Part 2: -')\n",
    "    \n",
    "solution('day25-c/input.txt')"
   ]
  },
  {
   "cell_type": "code",
   "execution_count": null,
   "metadata": {
    "collapsed": true
   },
   "outputs": [],
   "source": []
  }
 ],
 "metadata": {
  "kernelspec": {
   "display_name": "Python 3",
   "language": "python",
   "name": "python3"
  },
  "language_info": {
   "codemirror_mode": {
    "name": "ipython",
    "version": 3
   },
   "file_extension": ".py",
   "mimetype": "text/x-python",
   "name": "python",
   "nbconvert_exporter": "python",
   "pygments_lexer": "ipython3",
   "version": "3.5.2"
  }
 },
 "nbformat": 4,
 "nbformat_minor": 2
}
